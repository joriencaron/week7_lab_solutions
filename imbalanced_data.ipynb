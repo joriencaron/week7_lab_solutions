{
 "cells": [
  {
   "cell_type": "code",
   "execution_count": 1,
   "id": "19281c88",
   "metadata": {},
   "outputs": [],
   "source": [
    "import pandas as pd\n",
    "import numpy as np\n",
    "from sklearn.preprocessing import StandardScaler\n",
    "import matplotlib.pyplot as plt"
   ]
  },
  {
   "cell_type": "code",
   "execution_count": 2,
   "id": "ac5a641d",
   "metadata": {},
   "outputs": [
    {
     "data": {
      "text/html": [
       "<div>\n",
       "<style scoped>\n",
       "    .dataframe tbody tr th:only-of-type {\n",
       "        vertical-align: middle;\n",
       "    }\n",
       "\n",
       "    .dataframe tbody tr th {\n",
       "        vertical-align: top;\n",
       "    }\n",
       "\n",
       "    .dataframe thead th {\n",
       "        text-align: right;\n",
       "    }\n",
       "</style>\n",
       "<table border=\"1\" class=\"dataframe\">\n",
       "  <thead>\n",
       "    <tr style=\"text-align: right;\">\n",
       "      <th></th>\n",
       "      <th>gender</th>\n",
       "      <th>SeniorCitizen</th>\n",
       "      <th>Partner</th>\n",
       "      <th>Dependents</th>\n",
       "      <th>tenure</th>\n",
       "      <th>PhoneService</th>\n",
       "      <th>OnlineSecurity</th>\n",
       "      <th>OnlineBackup</th>\n",
       "      <th>DeviceProtection</th>\n",
       "      <th>TechSupport</th>\n",
       "      <th>StreamingTV</th>\n",
       "      <th>StreamingMovies</th>\n",
       "      <th>Contract</th>\n",
       "      <th>MonthlyCharges</th>\n",
       "      <th>TotalCharges</th>\n",
       "      <th>Churn</th>\n",
       "    </tr>\n",
       "  </thead>\n",
       "  <tbody>\n",
       "    <tr>\n",
       "      <th>0</th>\n",
       "      <td>Female</td>\n",
       "      <td>0</td>\n",
       "      <td>Yes</td>\n",
       "      <td>No</td>\n",
       "      <td>1</td>\n",
       "      <td>No</td>\n",
       "      <td>No</td>\n",
       "      <td>Yes</td>\n",
       "      <td>No</td>\n",
       "      <td>No</td>\n",
       "      <td>No</td>\n",
       "      <td>No</td>\n",
       "      <td>Month-to-month</td>\n",
       "      <td>29.85</td>\n",
       "      <td>29.85</td>\n",
       "      <td>No</td>\n",
       "    </tr>\n",
       "    <tr>\n",
       "      <th>1</th>\n",
       "      <td>Male</td>\n",
       "      <td>0</td>\n",
       "      <td>No</td>\n",
       "      <td>No</td>\n",
       "      <td>34</td>\n",
       "      <td>Yes</td>\n",
       "      <td>Yes</td>\n",
       "      <td>No</td>\n",
       "      <td>Yes</td>\n",
       "      <td>No</td>\n",
       "      <td>No</td>\n",
       "      <td>No</td>\n",
       "      <td>One year</td>\n",
       "      <td>56.95</td>\n",
       "      <td>1889.5</td>\n",
       "      <td>No</td>\n",
       "    </tr>\n",
       "    <tr>\n",
       "      <th>2</th>\n",
       "      <td>Male</td>\n",
       "      <td>0</td>\n",
       "      <td>No</td>\n",
       "      <td>No</td>\n",
       "      <td>2</td>\n",
       "      <td>Yes</td>\n",
       "      <td>Yes</td>\n",
       "      <td>Yes</td>\n",
       "      <td>No</td>\n",
       "      <td>No</td>\n",
       "      <td>No</td>\n",
       "      <td>No</td>\n",
       "      <td>Month-to-month</td>\n",
       "      <td>53.85</td>\n",
       "      <td>108.15</td>\n",
       "      <td>Yes</td>\n",
       "    </tr>\n",
       "    <tr>\n",
       "      <th>3</th>\n",
       "      <td>Male</td>\n",
       "      <td>0</td>\n",
       "      <td>No</td>\n",
       "      <td>No</td>\n",
       "      <td>45</td>\n",
       "      <td>No</td>\n",
       "      <td>Yes</td>\n",
       "      <td>No</td>\n",
       "      <td>Yes</td>\n",
       "      <td>Yes</td>\n",
       "      <td>No</td>\n",
       "      <td>No</td>\n",
       "      <td>One year</td>\n",
       "      <td>42.30</td>\n",
       "      <td>1840.75</td>\n",
       "      <td>No</td>\n",
       "    </tr>\n",
       "    <tr>\n",
       "      <th>4</th>\n",
       "      <td>Female</td>\n",
       "      <td>0</td>\n",
       "      <td>No</td>\n",
       "      <td>No</td>\n",
       "      <td>2</td>\n",
       "      <td>Yes</td>\n",
       "      <td>No</td>\n",
       "      <td>No</td>\n",
       "      <td>No</td>\n",
       "      <td>No</td>\n",
       "      <td>No</td>\n",
       "      <td>No</td>\n",
       "      <td>Month-to-month</td>\n",
       "      <td>70.70</td>\n",
       "      <td>151.65</td>\n",
       "      <td>Yes</td>\n",
       "    </tr>\n",
       "  </tbody>\n",
       "</table>\n",
       "</div>"
      ],
      "text/plain": [
       "   gender  SeniorCitizen Partner Dependents  tenure PhoneService  \\\n",
       "0  Female              0     Yes         No       1           No   \n",
       "1    Male              0      No         No      34          Yes   \n",
       "2    Male              0      No         No       2          Yes   \n",
       "3    Male              0      No         No      45           No   \n",
       "4  Female              0      No         No       2          Yes   \n",
       "\n",
       "  OnlineSecurity OnlineBackup DeviceProtection TechSupport StreamingTV  \\\n",
       "0             No          Yes               No          No          No   \n",
       "1            Yes           No              Yes          No          No   \n",
       "2            Yes          Yes               No          No          No   \n",
       "3            Yes           No              Yes         Yes          No   \n",
       "4             No           No               No          No          No   \n",
       "\n",
       "  StreamingMovies        Contract  MonthlyCharges TotalCharges Churn  \n",
       "0              No  Month-to-month           29.85        29.85    No  \n",
       "1              No        One year           56.95       1889.5    No  \n",
       "2              No  Month-to-month           53.85       108.15   Yes  \n",
       "3              No        One year           42.30      1840.75    No  \n",
       "4              No  Month-to-month           70.70       151.65   Yes  "
      ]
     },
     "execution_count": 2,
     "metadata": {},
     "output_type": "execute_result"
    }
   ],
   "source": [
    "#Read the data\n",
    "churndata = pd.read_csv('Customer-Churn.csv')\n",
    "churndata.head()"
   ]
  },
  {
   "cell_type": "code",
   "execution_count": 3,
   "id": "efd6c013",
   "metadata": {},
   "outputs": [
    {
     "name": "stdout",
     "output_type": "stream",
     "text": [
      "<class 'pandas.core.frame.DataFrame'>\n",
      "RangeIndex: 7043 entries, 0 to 7042\n",
      "Data columns (total 16 columns):\n",
      " #   Column            Non-Null Count  Dtype  \n",
      "---  ------            --------------  -----  \n",
      " 0   gender            7043 non-null   object \n",
      " 1   SeniorCitizen     7043 non-null   int64  \n",
      " 2   Partner           7043 non-null   object \n",
      " 3   Dependents        7043 non-null   object \n",
      " 4   tenure            7043 non-null   int64  \n",
      " 5   PhoneService      7043 non-null   object \n",
      " 6   OnlineSecurity    7043 non-null   object \n",
      " 7   OnlineBackup      7043 non-null   object \n",
      " 8   DeviceProtection  7043 non-null   object \n",
      " 9   TechSupport       7043 non-null   object \n",
      " 10  StreamingTV       7043 non-null   object \n",
      " 11  StreamingMovies   7043 non-null   object \n",
      " 12  Contract          7043 non-null   object \n",
      " 13  MonthlyCharges    7043 non-null   float64\n",
      " 14  TotalCharges      7043 non-null   object \n",
      " 15  Churn             7043 non-null   object \n",
      "dtypes: float64(1), int64(2), object(13)\n",
      "memory usage: 880.5+ KB\n"
     ]
    }
   ],
   "source": [
    "churndata.info()"
   ]
  },
  {
   "cell_type": "code",
   "execution_count": 4,
   "id": "956b2b3e",
   "metadata": {},
   "outputs": [],
   "source": [
    "#transform Total Charges to numerical column\n",
    "churndata['TotalCharges'] = pd.to_numeric(churndata['TotalCharges'],errors='coerce')"
   ]
  },
  {
   "cell_type": "code",
   "execution_count": 5,
   "id": "7bd8f080",
   "metadata": {},
   "outputs": [
    {
     "data": {
      "text/plain": [
       "gender               0\n",
       "SeniorCitizen        0\n",
       "Partner              0\n",
       "Dependents           0\n",
       "tenure               0\n",
       "PhoneService         0\n",
       "OnlineSecurity       0\n",
       "OnlineBackup         0\n",
       "DeviceProtection     0\n",
       "TechSupport          0\n",
       "StreamingTV          0\n",
       "StreamingMovies      0\n",
       "Contract             0\n",
       "MonthlyCharges       0\n",
       "TotalCharges        11\n",
       "Churn                0\n",
       "dtype: int64"
      ]
     },
     "execution_count": 5,
     "metadata": {},
     "output_type": "execute_result"
    }
   ],
   "source": [
    "#Check for NaN values and deal with them \n",
    "churndata.isna().sum()"
   ]
  },
  {
   "cell_type": "code",
   "execution_count": 6,
   "id": "d8a8d179",
   "metadata": {},
   "outputs": [],
   "source": [
    "churndata['TotalCharges'] = churndata['TotalCharges'].fillna(np.mean(churndata['TotalCharges']))"
   ]
  },
  {
   "cell_type": "code",
   "execution_count": 7,
   "id": "8d7f6a17",
   "metadata": {},
   "outputs": [],
   "source": [
    "#Use the following features: tenure, SeniorCitizen, MonthlyCharges and TotalCharges\n",
    "X = churndata[['tenure','SeniorCitizen','MonthlyCharges','TotalCharges']]\n",
    "y = churndata['Churn']"
   ]
  },
  {
   "cell_type": "code",
   "execution_count": 8,
   "id": "de97e08c",
   "metadata": {},
   "outputs": [
    {
     "data": {
      "text/plain": [
       "0    5174\n",
       "1    1869\n",
       "Name: Churn, dtype: int64"
      ]
     },
     "execution_count": 8,
     "metadata": {},
     "output_type": "execute_result"
    }
   ],
   "source": [
    "# transforming target to a binary value\n",
    "#y.value_counts()\n",
    "\n",
    "def target(x):\n",
    "    if x == 'No':\n",
    "        return 0\n",
    "    else:\n",
    "        return 1\n",
    "\n",
    "y = y.apply(target)\n",
    "y.value_counts()"
   ]
  },
  {
   "cell_type": "code",
   "execution_count": 9,
   "id": "21a57271",
   "metadata": {},
   "outputs": [],
   "source": [
    "# train test split\n",
    "from sklearn.model_selection import train_test_split\n",
    "X_train, X_test, y_train, y_test = train_test_split(X, y, test_size=0.3, random_state=42)"
   ]
  },
  {
   "cell_type": "code",
   "execution_count": 10,
   "id": "86add264",
   "metadata": {},
   "outputs": [
    {
     "data": {
      "text/html": [
       "<div>\n",
       "<style scoped>\n",
       "    .dataframe tbody tr th:only-of-type {\n",
       "        vertical-align: middle;\n",
       "    }\n",
       "\n",
       "    .dataframe tbody tr th {\n",
       "        vertical-align: top;\n",
       "    }\n",
       "\n",
       "    .dataframe thead th {\n",
       "        text-align: right;\n",
       "    }\n",
       "</style>\n",
       "<table border=\"1\" class=\"dataframe\">\n",
       "  <thead>\n",
       "    <tr style=\"text-align: right;\">\n",
       "      <th></th>\n",
       "      <th>tenure</th>\n",
       "      <th>SeniorCitizen</th>\n",
       "      <th>MonthlyCharges</th>\n",
       "      <th>TotalCharges</th>\n",
       "    </tr>\n",
       "  </thead>\n",
       "  <tbody>\n",
       "    <tr>\n",
       "      <th>0</th>\n",
       "      <td>-1.284263</td>\n",
       "      <td>-0.436831</td>\n",
       "      <td>-1.327058</td>\n",
       "      <td>-1.001115</td>\n",
       "    </tr>\n",
       "    <tr>\n",
       "      <th>1</th>\n",
       "      <td>0.349957</td>\n",
       "      <td>-0.436831</td>\n",
       "      <td>-1.312127</td>\n",
       "      <td>-0.571868</td>\n",
       "    </tr>\n",
       "    <tr>\n",
       "      <th>2</th>\n",
       "      <td>0.799367</td>\n",
       "      <td>-0.436831</td>\n",
       "      <td>-1.507892</td>\n",
       "      <td>-0.556295</td>\n",
       "    </tr>\n",
       "    <tr>\n",
       "      <th>3</th>\n",
       "      <td>-1.284263</td>\n",
       "      <td>-0.436831</td>\n",
       "      <td>0.383397</td>\n",
       "      <td>-0.978342</td>\n",
       "    </tr>\n",
       "    <tr>\n",
       "      <th>4</th>\n",
       "      <td>1.412199</td>\n",
       "      <td>-0.436831</td>\n",
       "      <td>-0.472660</td>\n",
       "      <td>0.428150</td>\n",
       "    </tr>\n",
       "    <tr>\n",
       "      <th>...</th>\n",
       "      <td>...</td>\n",
       "      <td>...</td>\n",
       "      <td>...</td>\n",
       "      <td>...</td>\n",
       "    </tr>\n",
       "    <tr>\n",
       "      <th>2108</th>\n",
       "      <td>-1.284263</td>\n",
       "      <td>-0.436831</td>\n",
       "      <td>0.177678</td>\n",
       "      <td>-0.981081</td>\n",
       "    </tr>\n",
       "    <tr>\n",
       "      <th>2109</th>\n",
       "      <td>-1.284263</td>\n",
       "      <td>-0.436831</td>\n",
       "      <td>-0.668425</td>\n",
       "      <td>-0.992346</td>\n",
       "    </tr>\n",
       "    <tr>\n",
       "      <th>2110</th>\n",
       "      <td>1.126211</td>\n",
       "      <td>-0.436831</td>\n",
       "      <td>-0.142514</td>\n",
       "      <td>0.620034</td>\n",
       "    </tr>\n",
       "    <tr>\n",
       "      <th>2111</th>\n",
       "      <td>-0.508008</td>\n",
       "      <td>-0.436831</td>\n",
       "      <td>0.859537</td>\n",
       "      <td>-0.225121</td>\n",
       "    </tr>\n",
       "    <tr>\n",
       "      <th>2112</th>\n",
       "      <td>-0.426298</td>\n",
       "      <td>-0.436831</td>\n",
       "      <td>-0.454411</td>\n",
       "      <td>-0.467411</td>\n",
       "    </tr>\n",
       "  </tbody>\n",
       "</table>\n",
       "<p>2113 rows × 4 columns</p>\n",
       "</div>"
      ],
      "text/plain": [
       "        tenure  SeniorCitizen  MonthlyCharges  TotalCharges\n",
       "0    -1.284263      -0.436831       -1.327058     -1.001115\n",
       "1     0.349957      -0.436831       -1.312127     -0.571868\n",
       "2     0.799367      -0.436831       -1.507892     -0.556295\n",
       "3    -1.284263      -0.436831        0.383397     -0.978342\n",
       "4     1.412199      -0.436831       -0.472660      0.428150\n",
       "...        ...            ...             ...           ...\n",
       "2108 -1.284263      -0.436831        0.177678     -0.981081\n",
       "2109 -1.284263      -0.436831       -0.668425     -0.992346\n",
       "2110  1.126211      -0.436831       -0.142514      0.620034\n",
       "2111 -0.508008      -0.436831        0.859537     -0.225121\n",
       "2112 -0.426298      -0.436831       -0.454411     -0.467411\n",
       "\n",
       "[2113 rows x 4 columns]"
      ]
     },
     "execution_count": 10,
     "metadata": {},
     "output_type": "execute_result"
    }
   ],
   "source": [
    "# Scale values\n",
    "\n",
    "#Scale X-train\n",
    "transformer = StandardScaler().fit(X_train)\n",
    "X_scaled_train = pd.DataFrame(transformer.transform(X_train),columns=X_train.columns)\n",
    "\n",
    "#Scale X-test\n",
    "X_scaled_test = pd.DataFrame(transformer.transform(X_test),columns=X_test.columns)\n",
    "X_scaled_test"
   ]
  },
  {
   "cell_type": "code",
   "execution_count": 11,
   "id": "b0505648",
   "metadata": {},
   "outputs": [],
   "source": [
    "# fit the model\n",
    "from sklearn.linear_model import LogisticRegression\n",
    "from sklearn.metrics import precision_score\n",
    "from sklearn.metrics import accuracy_score\n",
    "from sklearn.metrics import recall_score\n",
    "from sklearn.metrics import f1_score\n",
    "from sklearn.metrics import r2_score\n",
    "from sklearn.metrics import confusion_matrix\n",
    "from sklearn.metrics import plot_confusion_matrix"
   ]
  },
  {
   "cell_type": "code",
   "execution_count": null,
   "id": "ea1304a2",
   "metadata": {},
   "outputs": [
    {
     "name": "stderr",
     "output_type": "stream",
     "text": [
      "/Users/joriencaron/opt/anaconda3/lib/python3.8/site-packages/xgboost/sklearn.py:888: UserWarning: The use of label encoder in XGBClassifier is deprecated and will be removed in a future release. To remove this warning, do the following: 1) Pass option use_label_encoder=False when constructing XGBClassifier object; and 2) Encode your labels (y) as integers starting with 0, i.e. 0, 1, 2, ..., [num_class - 1].\n",
      "  warnings.warn(label_encoder_deprecation_msg, UserWarning)\n"
     ]
    },
    {
     "name": "stdout",
     "output_type": "stream",
     "text": [
      "[18:17:45] WARNING: /opt/concourse/worker/volumes/live/7a2b9f41-3287-451b-6691-43e9a6c0910f/volume/xgboost-split_1619728204606/work/src/learner.cc:1061: Starting in XGBoost 1.3.0, the default evaluation metric used with the objective 'binary:logistic' was changed from 'error' to 'logloss'. Explicitly set eval_metric if you'd like to restore the old behavior.\n"
     ]
    }
   ],
   "source": [
    "from xgboost import XGBClassifier\n",
    "model = XGBClassifier(n_estimators=1000, max_depth=7, eta=0.1, subsample=0.7, colsample_bytree=0.8).fit(X_scaled_train,y_train)\n",
    "pred = model.predict(X_scaled_test)\n",
    "\n",
    "print('accuracy:', accuracy_score(y_test, pred))\n",
    "print(\"precision: \",precision_score(y_test,pred))\n",
    "print(\"recall: \",recall_score(y_test,pred))\n",
    "print(\"f1: \",f1_score(y_test,pred))\n",
    "\n",
    "plot_confusion_matrix(model, X_scaled_test, y_test,cmap=plt.cm.Blues)  \n",
    "plt.show()"
   ]
  },
  {
   "cell_type": "code",
   "execution_count": null,
   "id": "e393c361",
   "metadata": {},
   "outputs": [],
   "source": [
    "LR = LogisticRegression(random_state=42, solver='lbfgs', max_iter=4000).fit(X_scaled_train, y_train)\n",
    "pred = LR.predict(X_scaled_test)\n",
    "\n",
    "print('accuracy:', accuracy_score(y_test, pred))\n",
    "print(\"precision: \",precision_score(y_test,pred))\n",
    "print(\"recall: \",recall_score(y_test,pred))\n",
    "print(\"f1: \",f1_score(y_test,pred))\n",
    "\n",
    "plot_confusion_matrix(LR, X_scaled_test, y_test,cmap=plt.cm.Blues)  \n",
    "plt.show()"
   ]
  },
  {
   "cell_type": "markdown",
   "id": "31647383",
   "metadata": {},
   "source": [
    "Accuracy of the model above is 79,3%, which would be pretty good if the data is balanced. However, when we take a closer look at the plotted confusion matrix, we can see there 316 people that are predicted NOT to churn but actually DO churn. This number is actually lower then the 258 customers we expect are going to churn and also actually churn. We wan't the falsely predict non-churners to be as low as possible as we are losing money here. With balancing the data we can adress this problem."
   ]
  },
  {
   "cell_type": "markdown",
   "id": "2edb24db",
   "metadata": {},
   "source": [
    "## Balancing the data"
   ]
  },
  {
   "cell_type": "code",
   "execution_count": null,
   "id": "70e0a3a9",
   "metadata": {},
   "outputs": [],
   "source": [
    "X = churndata[['tenure','SeniorCitizen','MonthlyCharges','TotalCharges']]\n",
    "y = churndata['Churn']"
   ]
  },
  {
   "cell_type": "code",
   "execution_count": null,
   "id": "4120515a",
   "metadata": {},
   "outputs": [],
   "source": [
    "def target(x):\n",
    "    if x == 'No':\n",
    "        return 0\n",
    "    else:\n",
    "        return 1\n",
    "\n",
    "y = y.apply(target)\n",
    "y.value_counts()"
   ]
  },
  {
   "cell_type": "code",
   "execution_count": null,
   "id": "54f05334",
   "metadata": {},
   "outputs": [],
   "source": [
    "# let's have a look at distribution of the target variable\n",
    "labels = 'Stay','Churn'\n",
    "colors = ['orange', 'pink']\n",
    "\n",
    "plt.figure(figsize=(6,6))\n",
    "plt.suptitle('Distribution of churns', fontsize=15)\n",
    "\n",
    "churndata['Churn'].value_counts().plot.pie(explode=[0,0.2],autopct='%1.2f%%', shadow=True, colors=colors, \n",
    "                                             labels=labels, fontsize=10,startangle=75)\n",
    "\n",
    "plt.show()\n",
    "\n"
   ]
  },
  {
   "cell_type": "markdown",
   "id": "e9d99e85",
   "metadata": {},
   "source": [
    "The plot above show that we have a considerable imbalance (Churns are only 26,54% of the dataset), it's not immense, but balancing is definetely advisable here. "
   ]
  },
  {
   "cell_type": "markdown",
   "id": "24d9ada7",
   "metadata": {},
   "source": [
    "### Logistic Regression - Balanced Weights"
   ]
  },
  {
   "cell_type": "code",
   "execution_count": null,
   "id": "01a1f61a",
   "metadata": {},
   "outputs": [],
   "source": [
    "LR_balanced = LogisticRegression(random_state=42, solver='lbfgs', max_iter=4000,class_weight='balanced').fit(X_scaled_train, y_train)\n",
    "pred_balanced = LR_balanced.predict(X_scaled_test)\n",
    "\n",
    "print('accuracy:', accuracy_score(y_test, pred_balanced))\n",
    "print(\"precision: \",precision_score(y_test,pred_balanced))\n",
    "print(\"recall: \",recall_score(y_test,pred_balanced))\n",
    "print(\"f1: \",f1_score(y_test,pred_balanced))\n",
    "\n",
    "plot_confusion_matrix(LR_balanced, X_scaled_test, y_test,cmap=plt.cm.Blues)  \n",
    "plt.show()"
   ]
  },
  {
   "cell_type": "markdown",
   "id": "12965214",
   "metadata": {},
   "source": [
    "Using the logistic regression with balanced weights already improved our model a lot. We lost some accuracy, but the recall went up from 44% to 75%. As recall is an important measure, when you want to minimize the amount  of falsely predicted non-churners. We can see that this number went from 316 to only 139. However, it is important consider here that although we decreases that number by a lot we also increased the number of predited churns, when they actually don't. This could mean that we invest more money in people to 'retain' them, although they never planned on leaving. I don't see that as a really big problem in this situation, I reckon losing a customer would cost a company much more. Also, investing money in people who will not churn anyway, may result in higher customer loyalty which is never a bad thing. "
   ]
  },
  {
   "cell_type": "markdown",
   "id": "c24e6996",
   "metadata": {},
   "source": [
    "### Logistic Regession - Manual Weights"
   ]
  },
  {
   "cell_type": "code",
   "execution_count": null,
   "id": "d191b92f",
   "metadata": {},
   "outputs": [],
   "source": [
    "weight = {1: 0.75,\n",
    "           0: 0.25\n",
    "          }\n",
    "LR_manual = LogisticRegression(random_state=1, solver='lbfgs', max_iter=4000,class_weight=weight).fit(X_scaled_train, y_train)\n",
    "pred_manual = LR_manual.predict(X_scaled_test)\n",
    "\n",
    "print('accuracy:', accuracy_score(y_test, pred_manual))\n",
    "print(\"precision: \",precision_score(y_test,pred_manual))\n",
    "print(\"recall: \",recall_score(y_test,pred_manual))\n",
    "print(\"f1: \",f1_score(y_test,pred_manual))\n",
    "\n",
    "plot_confusion_matrix(LR_manual, X_scaled_test, y_test,cmap=plt.cm.Blues)  \n",
    "plt.show()"
   ]
  },
  {
   "cell_type": "markdown",
   "id": "5e817e58",
   "metadata": {},
   "source": [
    "My favourite way of balancing data remains manual weights, as you can tweak your model until you get the perfect sweetspot of reducing the negative impact of falsely predicted outcomes. The recall of 78% shows this. "
   ]
  },
  {
   "cell_type": "markdown",
   "id": "639cf63a",
   "metadata": {},
   "source": [
    "### SMOTE"
   ]
  },
  {
   "cell_type": "code",
   "execution_count": null,
   "id": "e4512c23",
   "metadata": {},
   "outputs": [],
   "source": [
    "from imblearn.over_sampling import SMOTE\n",
    "\n",
    "sm = SMOTE(random_state=100,k_neighbors=3)\n",
    "X_train_SMOTE,y_train_SMOTE = sm.fit_resample(X_scaled_train,y_train)\n",
    "\n",
    "smote = LogisticRegression(random_state=42,max_iter=1000).fit(X_train_SMOTE, y_train_SMOTE)\n",
    "pred_smote = smote.predict(X_scaled_test)\n",
    "\n",
    "print('accuracy:', accuracy_score(y_test, pred_smote))\n",
    "print(\"precision: \",precision_score(y_test,pred_smote))\n",
    "print(\"recall: \",recall_score(y_test,pred_smote))\n",
    "print(\"f1: \",f1_score(y_test,pred_smote))\n",
    "\n",
    "plot_confusion_matrix(smote, X_scaled_test, y_test,cmap=plt.cm.Blues)  \n",
    "plt.show()"
   ]
  },
  {
   "cell_type": "markdown",
   "id": "7c3b9772",
   "metadata": {},
   "source": [
    "SMOTE preformed slightly less than balanced model. Given the recall is 74% vs. 75%."
   ]
  },
  {
   "cell_type": "markdown",
   "id": "f353ea49",
   "metadata": {},
   "source": [
    "### Undersampling"
   ]
  },
  {
   "cell_type": "code",
   "execution_count": null,
   "id": "2265f86a",
   "metadata": {},
   "outputs": [],
   "source": [
    "X_scaled_train = X_scaled_train.reset_index()\n",
    "y_train = y_train.reset_index()\n",
    "train = pd.concat([X_scaled_train, y_train],axis=1)\n",
    "stay = train[train['Churn']==0]\n",
    "churn = train[train['Churn']==1]"
   ]
  },
  {
   "cell_type": "code",
   "execution_count": null,
   "id": "584e05d3",
   "metadata": {},
   "outputs": [],
   "source": [
    "from sklearn.utils import resample\n",
    "stay_undersampled = resample(stay,replace=False,n_samples = len(churn),random_state=42)\n",
    "\n",
    "\n",
    "display(churn.shape)\n",
    "display(stay_undersampled.shape)"
   ]
  },
  {
   "cell_type": "code",
   "execution_count": null,
   "id": "babb3ba7",
   "metadata": {},
   "outputs": [],
   "source": [
    "train_undersampled = pd.concat([stay_undersampled,churn])"
   ]
  },
  {
   "cell_type": "code",
   "execution_count": null,
   "id": "c70425e5",
   "metadata": {},
   "outputs": [],
   "source": [
    "y_train_under = train_undersampled['Churn'].copy()\n",
    "X_train_under = train_undersampled.drop('Churn',axis = 1).copy()"
   ]
  },
  {
   "cell_type": "code",
   "execution_count": null,
   "id": "53126b68",
   "metadata": {},
   "outputs": [],
   "source": [
    "X_train_under"
   ]
  },
  {
   "cell_type": "code",
   "execution_count": null,
   "id": "f056bca3",
   "metadata": {},
   "outputs": [],
   "source": [
    "X_train_under = X_train_under.drop(['index'],axis=1)"
   ]
  },
  {
   "cell_type": "code",
   "execution_count": null,
   "id": "a1c7730d",
   "metadata": {},
   "outputs": [],
   "source": [
    "LR_under = LogisticRegression(max_iter=1000).fit(X_train_under, y_train_under)\n",
    "pred_under = LR_under.predict(X_scaled_test)\n",
    "\n",
    "print('accuracy:', accuracy_score(y_test, pred_under))\n",
    "print(\"precision: \",precision_score(y_test,pred_under))\n",
    "print(\"recall: \",recall_score(y_test,pred_under))\n",
    "print(\"f1: \",f1_score(y_test,pred_under))\n",
    "\n",
    "plot_confusion_matrix(LR_under, X_scaled_test, y_test,cmap=plt.cm.Blues)  \n",
    "plt.show()"
   ]
  },
  {
   "cell_type": "markdown",
   "id": "8fc81525",
   "metadata": {},
   "source": [
    "Undersampling is the second best scoring model with a recall of 77%. Since the differnces are very small either manual weights or undersampling is the way to go. "
   ]
  },
  {
   "cell_type": "code",
   "execution_count": null,
   "id": "962723fd",
   "metadata": {},
   "outputs": [],
   "source": []
  }
 ],
 "metadata": {
  "kernelspec": {
   "display_name": "Python 3",
   "language": "python",
   "name": "python3"
  },
  "language_info": {
   "codemirror_mode": {
    "name": "ipython",
    "version": 3
   },
   "file_extension": ".py",
   "mimetype": "text/x-python",
   "name": "python",
   "nbconvert_exporter": "python",
   "pygments_lexer": "ipython3",
   "version": "3.8.8"
  }
 },
 "nbformat": 4,
 "nbformat_minor": 5
}
